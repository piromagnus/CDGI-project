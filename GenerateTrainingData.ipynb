{
 "cells": [
  {
   "cell_type": "code",
   "execution_count": 3,
   "metadata": {},
   "outputs": [],
   "source": [
    "#imports\n",
    "import cv2\n",
    "import numpy as np\n",
    "import pandas as pd\n",
    "import os\n",
    "from PIL import Image\n",
    "import random"
   ]
  },
  {
   "cell_type": "code",
   "execution_count": 8,
   "metadata": {},
   "outputs": [],
   "source": [
    "path_images=r\"C:\\Users\\pnk72\\Downloads\\CDGI-project\\Images\"\n",
    "path_training_org= 'C:/Users/pnk72/Downloads/CDGI-project/TrainingData3232/Original'\n",
    "path_images_dist= 'C:/Users/pnk72/Downloads/CDGI-project/TrainingData3232/Distorted'\n",
    "path_images_mask= 'C:/Users/pnk72/Downloads/CDGI-project/TrainingData3232/Masks'"
   ]
  },
  {
   "cell_type": "code",
   "execution_count": 9,
   "metadata": {},
   "outputs": [],
   "source": [
    "photos=os.listdir(path_images)"
   ]
  },
  {
   "cell_type": "code",
   "execution_count": 10,
   "metadata": {},
   "outputs": [],
   "source": [
    "for photo in photos:\n",
    "    image = cv2.imread(path_images+'\\\\'+ photo)\n",
    "    shape = image.shape\n",
    "    if (shape[0]>=32 and shape[1]>=32):\n",
    "        im_crop = image[0:32,0:32]\n",
    "        cv2.imwrite(path_training_org+'/'+photo,im_crop)"
   ]
  },
  {
   "cell_type": "code",
   "execution_count": 14,
   "metadata": {},
   "outputs": [],
   "source": [
    "image=0\n",
    "mask=0\n",
    "photos=os.listdir(path_training_org)\n",
    "for photo in photos:\n",
    "    image = cv2.imread(path_training_org+'/'+ photo)\n",
    "    #print(image.shape)\n",
    "    r1 = random.randrange(0,32)\n",
    "    r2 = random.randrange(0,32)\n",
    "    #lets create a mask (in a circle shape)\n",
    "    mask = np.full(image.shape, (255,255,255),dtype=np.uint8)\n",
    "    #                        position  radius 8 or 15    \n",
    "    mask = cv2.circle(mask, (r1, r2), 8, (0,0,0), -1)\n",
    "    cv2.imwrite(path_images_mask+'/'+photo,mask)\n",
    "    # Mask input image with binary mask\n",
    "    image[mask==0] = 255\n",
    "    cv2.imwrite(path_images_dist+'/'+photo,image)"
   ]
  },
  {
   "cell_type": "code",
   "execution_count": 13,
   "metadata": {},
   "outputs": [],
   "source": [
    "#show image\n",
    "cv2.imshow('image',image)\n",
    "cv2.waitKey(0)\n",
    "cv2.destroyAllWindows()"
   ]
  },
  {
   "cell_type": "code",
   "execution_count": 92,
   "metadata": {},
   "outputs": [],
   "source": []
  },
  {
   "cell_type": "code",
   "execution_count": null,
   "metadata": {},
   "outputs": [],
   "source": []
  },
  {
   "cell_type": "code",
   "execution_count": null,
   "metadata": {},
   "outputs": [],
   "source": []
  },
  {
   "cell_type": "code",
   "execution_count": null,
   "metadata": {},
   "outputs": [],
   "source": []
  }
 ],
 "metadata": {
  "kernelspec": {
   "display_name": "Python 3",
   "language": "python",
   "name": "python3"
  },
  "language_info": {
   "codemirror_mode": {
    "name": "ipython",
    "version": 3
   },
   "file_extension": ".py",
   "mimetype": "text/x-python",
   "name": "python",
   "nbconvert_exporter": "python",
   "pygments_lexer": "ipython3",
   "version": "3.8.5"
  }
 },
 "nbformat": 4,
 "nbformat_minor": 4
}
