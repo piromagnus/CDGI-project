{
 "cells": [
  {
   "cell_type": "code",
   "execution_count": 70,
   "metadata": {},
   "outputs": [],
   "source": [
    "#imports\n",
    "import cv2\n",
    "import numpy as np\n",
    "import pandas as pd\n",
    "import os\n",
    "from PIL import Image\n",
    "import random"
   ]
  },
  {
   "cell_type": "code",
   "execution_count": 74,
   "metadata": {},
   "outputs": [],
   "source": [
    "path_images=r\"C:\\Users\\pnk72\\Downloads\\CDGI-project\\Images\"\n",
    "path_training_org= 'C:/Users/pnk72/Downloads/CDGI-project/TrainingData/Original'\n",
    "path_images_dist= 'C:/Users/pnk72/Downloads/CDGI-project/TrainingData/Distorted'\n",
    "path_images_mask= 'C:/Users/pnk72/Downloads/CDGI-project/TrainingData/Masks'"
   ]
  },
  {
   "cell_type": "code",
   "execution_count": 67,
   "metadata": {},
   "outputs": [],
   "source": [
    "photos=os.listdir(path_images)"
   ]
  },
  {
   "cell_type": "code",
   "execution_count": 68,
   "metadata": {},
   "outputs": [],
   "source": [
    "for photo in photos:\n",
    "    image = cv2.imread(path_images+'\\\\'+ photo)\n",
    "    shape = image.shape\n",
    "    if (shape[0]>=60 and shape[1]>=60):\n",
    "        im_crop = image[0:60,0:60]\n",
    "        cv2.imwrite(path_training_org+'/'+photo,im_crop)"
   ]
  },
  {
   "cell_type": "code",
   "execution_count": 83,
   "metadata": {},
   "outputs": [],
   "source": [
    "for photo in photos:\n",
    "    image = cv2.imread(path_training_org+'/'+ photo)\n",
    "    r1 = random.randrange(0,60)\n",
    "    r2 = random.randrange(0,60)\n",
    "    #lets create a mask (in a circle shape)\n",
    "    mask = np.full(image.shape, (255,255,255),dtype=np.uint8)\n",
    "    #                        position  radius     \n",
    "    mask = cv2.circle(mask, (r1, r2), 13, (0,0,0), -1)\n",
    "    cv2.imwrite(path_images_mask+'/'+photo,mask)\n",
    "    #cv2.imwrite(path_images_dist+'/'+photo,im_crop)"
   ]
  },
  {
   "cell_type": "code",
   "execution_count": 81,
   "metadata": {},
   "outputs": [],
   "source": [
    "#show image\n",
    "cv2.imshow('image',mask)\n",
    "cv2.waitKey(0)\n",
    "cv2.destroyAllWindows()"
   ]
  },
  {
   "cell_type": "code",
   "execution_count": 50,
   "metadata": {},
   "outputs": [
    {
     "data": {
      "text/plain": [
       "(50, 50, 3)"
      ]
     },
     "execution_count": 50,
     "metadata": {},
     "output_type": "execute_result"
    }
   ],
   "source": [
    "im_crop.shape"
   ]
  },
  {
   "cell_type": "code",
   "execution_count": null,
   "metadata": {},
   "outputs": [],
   "source": []
  }
 ],
 "metadata": {
  "kernelspec": {
   "display_name": "Python 3",
   "language": "python",
   "name": "python3"
  },
  "language_info": {
   "codemirror_mode": {
    "name": "ipython",
    "version": 3
   },
   "file_extension": ".py",
   "mimetype": "text/x-python",
   "name": "python",
   "nbconvert_exporter": "python",
   "pygments_lexer": "ipython3",
   "version": "3.8.5"
  }
 },
 "nbformat": 4,
 "nbformat_minor": 4
}
