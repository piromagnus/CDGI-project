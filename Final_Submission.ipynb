{
 "cells": [
  {
   "cell_type": "markdown",
   "id": "chinese-jungle",
   "metadata": {},
   "source": [
    "# IMAGE INPAINTING\n",
    "Pierre Marrec and Paul Krieger, CGDI, ENS de Lyon, 29.03.2021"
   ]
  },
  {
   "cell_type": "markdown",
   "id": "american-albuquerque",
   "metadata": {},
   "source": [
    "In this notebook we implement an image inpainting algorithm which relys on CNNs."
   ]
  },
  {
   "cell_type": "code",
   "execution_count": 3,
   "id": "faced-encoding",
   "metadata": {},
   "outputs": [],
   "source": [
    "#imports\n",
    "import tensorflow as tf\n",
    "from sklearn.model_selection import train_test_split\n",
    "from tensorflow import keras\n",
    "from os import listdir\n",
    "import os\n",
    "import cv2\n",
    "import numpy as np\n",
    "import matplotlib.pyplot as plt\n",
    "from mpl_toolkits.axes_grid1 import ImageGrid"
   ]
  },
  {
   "cell_type": "markdown",
   "id": "thick-bandwidth",
   "metadata": {},
   "source": [
    "First we get the data set. In this implementation we consider images with the shape 32*32"
   ]
  },
  {
   "cell_type": "code",
   "execution_count": 4,
   "id": "patient-binary",
   "metadata": {},
   "outputs": [],
   "source": [
    "#path to our images\n",
    "path_training_org= 'C:/Users/pnk72/Downloads/CDGI-project/TrainingData3232/Original'\n",
    "#list all available images\n",
    "photos=os.listdir(path_training_org)"
   ]
  },
  {
   "cell_type": "code",
   "execution_count": 7,
   "id": "attended-country",
   "metadata": {},
   "outputs": [],
   "source": [
    "#this method combines the path with the photo names and returns a data set with all corresponding photos\n",
    "def getImages(path):\n",
    "    # return array of images\n",
    "    imagesList = listdir(path)\n",
    "    loadedImages = []\n",
    "    for image in imagesList:\n",
    "        img = cv2.imread(path_training_org+'\\\\'+ image)\n",
    "        loadedImages.append(img)\n",
    "    return np.array(loadedImages)"
   ]
  },
  {
   "cell_type": "code",
   "execution_count": 9,
   "id": "celtic-sitting",
   "metadata": {},
   "outputs": [
    {
     "data": {
      "text/plain": [
       "(3590, 32, 32, 3)"
      ]
     },
     "execution_count": 9,
     "metadata": {},
     "output_type": "execute_result"
    }
   ],
   "source": [
    "#get the photos\n",
    "data = getImages(path_training_org)\n",
    "#lets have a look at the shape etc of the data set\n",
    "data.shape"
   ]
  },
  {
   "cell_type": "markdown",
   "id": "conceptual-phase",
   "metadata": {},
   "source": [
    "In order to train our model later, we have to create a traing data set and a test data set. We decided to split the data set in the proportion 0.8/0.2."
   ]
  },
  {
   "cell_type": "code",
   "execution_count": 10,
   "id": "productive-blank",
   "metadata": {},
   "outputs": [],
   "source": [
    "#at the moment we do not have labels. Therefore x=y=data\n",
    "x_train,x_test,y_train,y_test = train_test_split(data,data,test_size=0.2)"
   ]
  },
  {
   "cell_type": "code",
   "execution_count": null,
   "id": "micro-officer",
   "metadata": {},
   "outputs": [],
   "source": []
  }
 ],
 "metadata": {
  "kernelspec": {
   "display_name": "Python 3",
   "language": "python",
   "name": "python3"
  },
  "language_info": {
   "codemirror_mode": {
    "name": "ipython",
    "version": 3
   },
   "file_extension": ".py",
   "mimetype": "text/x-python",
   "name": "python",
   "nbconvert_exporter": "python",
   "pygments_lexer": "ipython3",
   "version": "3.8.5"
  }
 },
 "nbformat": 4,
 "nbformat_minor": 5
}
